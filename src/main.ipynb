{
 "cells": [
  {
   "cell_type": "code",
   "execution_count": 6,
   "id": "107b38fe",
   "metadata": {},
   "outputs": [],
   "source": [
    "import easyocr\n",
    "import os.path\n",
    "import numpy as np"
   ]
  },
  {
   "cell_type": "code",
   "execution_count": 7,
   "id": "107acd6b",
   "metadata": {},
   "outputs": [
    {
     "name": "stderr",
     "output_type": "stream",
     "text": [
      "Neither CUDA nor MPS are available - defaulting to CPU. Note: This module is much faster with a GPU.\n"
     ]
    }
   ],
   "source": [
    "reader = easyocr.Reader(['pt'])"
   ]
  },
  {
   "cell_type": "code",
   "execution_count": 39,
   "id": "ed7c216f",
   "metadata": {},
   "outputs": [],
   "source": [
    "def detection_matrix(list : list) -> list:\n",
    "    matrix = []\n",
    "    for j, element in enumerate(list):\n",
    "        cord, detc, _ = element\n",
    "        letters = [letter.upper() for letter in detc if letter != ' ']\n",
    "        letters = ''.join(letters).replace(\"0\", \"O\")\n",
    "        line = []\n",
    "        rigth = int(cord[1][0])\n",
    "        left = int(cord[0][0])\n",
    "        upper = int(cord[0][1])\n",
    "        lower_begin = int(cord[3][1])\n",
    "        lower_end = int(cord[2][1])\n",
    "        width = round((left - rigth) / len(letters))\n",
    "        height_variation = round((lower_end - lower_begin) / len(letters)) #se for positivo ent desceu\n",
    "        for i in range(len(letters)):\n",
    "            left_letter = left + (width * i)\n",
    "            rigth_letter = rigth + (width * i)\n",
    "            upper_letter = upper + (height_variation * i)\n",
    "            lower_letter = lower_begin + (height_variation * i)\n",
    "            cord_letter = [left_letter, upper_letter, rigth_letter, lower_letter]\n",
    "            line.append((cord_letter, letters[i]))\n",
    "        matrix.append(line)\n",
    "    return matrix\n",
    "\n",
    "\n",
    "\n",
    "def search_direction(matrix, r : int, c : int, word : str, direction: str):\n",
    "    # return -> index of last letter (role, colum)\n",
    "    # r -> role\n",
    "    # c -> column \n",
    "    # dr -> direction role\n",
    "    # dc -> direction column\n",
    "    match direction:\n",
    "        case 'search_ritgh':\n",
    "            dr = 0\n",
    "            dc = 1\n",
    "        case 'search_left':\n",
    "            dr = 0\n",
    "            dc = -1\n",
    "        case 'search_down':\n",
    "            dr = 1\n",
    "            dc = 0\n",
    "        case 'search_up':\n",
    "            dr = -1\n",
    "            dc = 0\n",
    "        case 'search_up_rigth':\n",
    "            dr = -1\n",
    "            dc = 1\n",
    "        case 'search_up_left':\n",
    "            dr = -1\n",
    "            dc = -1\n",
    "        case 'search_down_rigth':\n",
    "            dr = 1\n",
    "            dc = 1\n",
    "        case 'search_down_left':\n",
    "            dr = 1\n",
    "            dc = -1\n",
    "    try:\n",
    "        for i, letter in enumerate(word):\n",
    "            if (matrix[r+(i * dr)][c + (i* dc)]).lower() == letter.lower():\n",
    "                if i == len(word) - 1:\n",
    "                    last_index = (r+(i * dr), c + (i* dc)) \n",
    "                continue\n",
    "            else:\n",
    "                return None \n",
    "        return last_index\n",
    "    except (IndexError):\n",
    "        return None\n",
    "\n",
    "def words_matrix_position(matrix : list, words_list : list) -> list:\n",
    "    directions = ['search_ritgh', 'search_left', 'search_down', 'search_up', 'search_up_rigth', 'search_up_left', 'search_down_rigth', 'search_down_left']\n",
    "    position_pairs = []  #list of tuples (r1, c1, r2, c2)\n",
    "    for r in range(len(matrix)):\n",
    "        for c in range(len(matrix[r])):\n",
    "                for word in words_list:\n",
    "                    # checks if the words starts whit the matrix letter\n",
    "                    if matrix[r][c].lower() == word[0].lower():\n",
    "                        # try all the directions until one of them works, break if works and try other word\n",
    "                        for direction in directions:\n",
    "                            last_index = search_direction(matrix, r, c, word, direction)\n",
    "                            if last_index is not None:\n",
    "                                position_pairs.append((r, c , last_index[0], last_index[1]))\n",
    "                                words_list.remove(word)\n",
    "                                break \n",
    "    return position_pairs"
   ]
  },
  {
   "cell_type": "code",
   "execution_count": 9,
   "id": "f5c3931f",
   "metadata": {},
   "outputs": [
    {
     "name": "stderr",
     "output_type": "stream",
     "text": [
      "<>:1: SyntaxWarning: invalid escape sequence '\\d'\n",
      "<>:2: SyntaxWarning: invalid escape sequence '\\d'\n",
      "<>:1: SyntaxWarning: invalid escape sequence '\\d'\n",
      "<>:2: SyntaxWarning: invalid escape sequence '\\d'\n",
      "C:\\Users\\pedro\\AppData\\Local\\Temp\\ipykernel_23140\\3460886727.py:1: SyntaxWarning: invalid escape sequence '\\d'\n",
      "  if os.path.exists('.\\data\\wordsearch.png'):\n",
      "C:\\Users\\pedro\\AppData\\Local\\Temp\\ipykernel_23140\\3460886727.py:2: SyntaxWarning: invalid escape sequence '\\d'\n",
      "  result = reader.readtext('.\\data\\wordsearch.png')\n",
      "d:\\pedro\\Programacao\\.Projetos\\Python\\ocr-wordsearch-solver-EasyOcr\\venv\\Lib\\site-packages\\torch\\utils\\data\\dataloader.py:665: UserWarning: 'pin_memory' argument is set as true but no accelerator is found, then device pinned memory won't be used.\n",
      "  warnings.warn(warn_msg)\n"
     ]
    }
   ],
   "source": [
    "if os.path.exists('.\\data\\wordsearch.png'):\n",
    "    result = reader.readtext('.\\data\\wordsearch.png')\n",
    "else:\n",
    "    print('fail')"
   ]
  },
  {
   "cell_type": "code",
   "execution_count": 50,
   "id": "f8e4fcc9",
   "metadata": {},
   "outputs": [
    {
     "name": "stdout",
     "output_type": "stream",
     "text": [
      "[(0, 2, 10, 12), (0, 4, 8, 4), (0, 9, 0, 21), (1, 7, 6, 12), (1, 9, 7, 15), (1, 18, 1, 8), (2, 9, 7, 9), (2, 21, 2, 15), (3, 3, 7, 7), (4, 11, 11, 18), (4, 16, 1, 19), (5, 14, 5, 18), (6, 0, 12, 6), (6, 13, 6, 21), (7, 2, 7, 0), (7, 6, 0, 6), (8, 9, 6, 7), (8, 13, 3, 13), (9, 4, 9, 11), (9, 12, 4, 7), (11, 9, 11, 15), (11, 19, 4, 19), (13, 16, 13, 19), (14, 8, 14, 13), (14, 16, 14, 21)]\n",
      "Não foi possivel detectar a/as seguintes palavras:\n",
      "0\n",
      "ADICIONAL\n",
      "MODO\n",
      "ROUBARAM\n",
      "GARANTIA\n",
      "CRÉDITO\n",
      "NUBANK\n",
      "SEGURO\n",
      "DIRETO\n",
      "JUNTAS\n",
      "BLOQUEAR\n",
      "VALOR\n",
      "ESCURO\n",
      "VIDAS\n",
      "CANAL\n",
      "LIMITES\n"
     ]
    }
   ],
   "source": [
    "words_list = [word for  _, word, _ in result if \" \" not in word]\n",
    "search_word_list = [res for res in result if \" \" in res[1]]\n",
    "matrix = detection_matrix(search_word_list)\n",
    "letter_matrix = [[letter for _, letter in line] for line in matrix]\n",
    "positions_pairs = words_matrix_position(letter_matrix, words_list)\n",
    "print(positions_pairs)\n",
    "if words_list:\n",
    "    print(\"Não foi possivel detectar a/as seguintes palavras:\")\n",
    "    for word in words_list:\n",
    "        print(word)"
   ]
  }
 ],
 "metadata": {
  "kernelspec": {
   "display_name": "venv",
   "language": "python",
   "name": "python3"
  },
  "language_info": {
   "codemirror_mode": {
    "name": "ipython",
    "version": 3
   },
   "file_extension": ".py",
   "mimetype": "text/x-python",
   "name": "python",
   "nbconvert_exporter": "python",
   "pygments_lexer": "ipython3",
   "version": "3.12.4"
  }
 },
 "nbformat": 4,
 "nbformat_minor": 5
}

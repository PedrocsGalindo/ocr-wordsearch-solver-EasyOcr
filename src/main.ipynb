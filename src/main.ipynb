{
 "cells": [
  {
   "cell_type": "code",
   "execution_count": 70,
   "id": "107b38fe",
   "metadata": {},
   "outputs": [],
   "source": [
    "import easyocr\n",
    "import os.path\n",
    "import numpy as np\n",
    "import cv2 \n",
    "from matplotlib import pyplot as plt\n",
    "from collections import Counter"
   ]
  },
  {
   "cell_type": "code",
   "execution_count": 71,
   "id": "107acd6b",
   "metadata": {},
   "outputs": [
    {
     "name": "stderr",
     "output_type": "stream",
     "text": [
      "Neither CUDA nor MPS are available - defaulting to CPU. Note: This module is much faster with a GPU.\n"
     ]
    }
   ],
   "source": [
    "reader = easyocr.Reader(['pt'])"
   ]
  },
  {
   "cell_type": "code",
   "execution_count": 79,
   "id": "ed7c216f",
   "metadata": {},
   "outputs": [],
   "source": [
    "def detection_matrix(list : list) -> list:\n",
    "    # list -> wordsearch list\n",
    "    # organizes the easyOCR response to be a matrix with each element being (box, text, confidence)\n",
    "    matrix = []\n",
    "    for j, element in enumerate(list):\n",
    "        cord, detc, acr = element\n",
    "        letters = [letter.upper() for letter in detc if letter != ' ']\n",
    "        line = []\n",
    "        rigth = cord[1][0]\n",
    "        left = cord[0][0]\n",
    "        upper = cord[0][1]\n",
    "        lower_begin = cord[3][1]\n",
    "        lower_end = cord[2][1]\n",
    "        width = round((rigth - left) / len(letters))\n",
    "        height_variation = round((lower_end - lower_begin) / len(letters)) \n",
    "        for i in range(len(letters)):\n",
    "            left_letter = left + (width * i)\n",
    "            rigth_letter = left + (width * (i + 1))\n",
    "            upper_letter = upper + (height_variation * i)\n",
    "            lower_letter = lower_begin + (height_variation * i)\n",
    "            cord_letter = [left_letter, upper_letter, rigth_letter, lower_letter]  # (x1, y1, x2, y2)\n",
    "            line.append((cord_letter, letters[i], acr))\n",
    "        matrix.append(line)\n",
    "    return matrix\n",
    "\n",
    "def search_words_matrix(wordsearch_list: list, img) -> list:\n",
    "    # do the detection in each letter and organizes to be a matrix with each element being (box, text, confidence)\n",
    "    detection_m = detection_matrix(wordsearch_list)\n",
    "    matrix = []\n",
    "    for line in detection_m:\n",
    "        line_list = []\n",
    "\n",
    "        #maybe using first detactin e secundo detection letter to be more acure e usem the best acurrece\n",
    "        for coord, _, _ in line:\n",
    "            x1_letter, y1_letter, x2_letter, y2_letter = coord\n",
    "\n",
    "            #letter img\n",
    "            img_letter = img[y1_letter:y2_letter, x1_letter:x2_letter]\n",
    "            data_letter =  reader.readtext(img_letter)\n",
    "            if len(data_letter) == 1:     \n",
    "                line_list.append(data_letter[0])\n",
    "\n",
    "        matrix.append(line_list)\n",
    "    return matrix\n",
    "\n",
    "def wordsearch_area(wordsearch_list: list, img) -> tuple:\n",
    "    # uses de detction to return the coordinates of the full wordshearch\n",
    "    # tuple -> (x1,y1,x2,y2)\n",
    "    img_h, img_w = img.shape[:2]  \n",
    "    left_min, top_min, bottom_max, right_max = img_w, img_h, 0, 0\n",
    "    #left_min = posicao mais a esquerda possivel\n",
    "    #top_min = posicao mais alto possivel\n",
    "    for line in wordsearch_list:\n",
    "        x1 = line[0][0][0]\n",
    "        y1 = line[0][0][1]\n",
    "        x2 = line[0][1][0]\n",
    "        y2 = line[0][2][1]\n",
    "            \n",
    "        left_min = min(left_min, x1)\n",
    "        top_min = min(top_min, y1)\n",
    "        right_max = max(right_max, x2)\n",
    "        bottom_max = max(bottom_max, y2)\n",
    "\n",
    "    return left_min, top_min, right_max, bottom_max\n",
    "\n",
    "def search_direction(matrix, r : int, c : int, word : str, direction: str):\n",
    "    # return -> index of last letter (role, colum)\n",
    "    # r -> role\n",
    "    # c -> column \n",
    "    # dr -> direction role\n",
    "    # dc -> direction column\n",
    "    match direction:\n",
    "        case 'search_ritgh':\n",
    "            dr = 0\n",
    "            dc = 1\n",
    "        case 'search_left':\n",
    "            dr = 0\n",
    "            dc = -1\n",
    "        case 'search_down':\n",
    "            dr = 1\n",
    "            dc = 0\n",
    "        case 'search_up':\n",
    "            dr = -1\n",
    "            dc = 0\n",
    "        case 'search_up_rigth':\n",
    "            dr = -1\n",
    "            dc = 1\n",
    "        case 'search_up_left':\n",
    "            dr = -1\n",
    "            dc = -1\n",
    "        case 'search_down_rigth':\n",
    "            dr = 1\n",
    "            dc = 1\n",
    "        case 'search_down_left':\n",
    "            dr = 1\n",
    "            dc = -1\n",
    "    try:\n",
    "        for i, letter in enumerate(word):\n",
    "            if (matrix[r+(i * dr)][c + (i* dc)]).lower() == letter.lower():\n",
    "                if i == len(word) - 1:\n",
    "                    last_index = (r+(i * dr), c + (i* dc)) \n",
    "                continue\n",
    "            else:\n",
    "                return None \n",
    "        return last_index\n",
    "    except (IndexError):\n",
    "        return None\n",
    "\n",
    "def words_matrix_position(matrix : list, words_list : list) -> list:\n",
    "    # find the words in words_list contained in the matrix of letters (wordsearch)\n",
    "    # and return a list of the possitions of the letters\n",
    "\n",
    "    directions = ['search_ritgh', 'search_left', 'search_down', 'search_up', 'search_up_rigth', 'search_up_left', 'search_down_rigth', 'search_down_left']\n",
    "    position_pairs = []  #list of tuples (r1, c1, r2, c2)\n",
    "    for r in range(len(matrix)):\n",
    "        for c in range(len(matrix[r])):\n",
    "                for word in words_list:\n",
    "                    # checks if the words starts whit the matrix letter\n",
    "                    if matrix[r][c].lower() == word[0].lower():\n",
    "                        # try all the directions until one of them works, break if works and try other word\n",
    "                        for direction in directions:\n",
    "                            last_index = search_direction(matrix, r, c, word, direction)\n",
    "                            if last_index is not None:\n",
    "                                position_pairs.append((r, c , last_index[0], last_index[1]))\n",
    "                                # if the word was found, remove it\n",
    "                                words_list.remove(word)\n",
    "                                break \n",
    "    return position_pairs"
   ]
  },
  {
   "cell_type": "code",
   "execution_count": 80,
   "id": "f5c3931f",
   "metadata": {},
   "outputs": [
    {
     "name": "stderr",
     "output_type": "stream",
     "text": [
      "<>:1: SyntaxWarning: invalid escape sequence '\\d'\n",
      "<>:1: SyntaxWarning: invalid escape sequence '\\d'\n",
      "C:\\Users\\pedro\\AppData\\Local\\Temp\\ipykernel_39912\\2485239479.py:1: SyntaxWarning: invalid escape sequence '\\d'\n",
      "  img_path = '.\\data\\wordsearch.png'\n",
      "d:\\pedro\\Programacao\\.Projetos\\Python\\ocr-wordsearch-solver-EasyOcr\\venv\\Lib\\site-packages\\torch\\utils\\data\\dataloader.py:665: UserWarning: 'pin_memory' argument is set as true but no accelerator is found, then device pinned memory won't be used.\n",
      "  warnings.warn(warn_msg)\n"
     ]
    }
   ],
   "source": [
    "img_path = '.\\data\\wordsearch.png'\n",
    "if os.path.exists(img_path):\n",
    "    img = cv2.imread(img_path)\n",
    "    img = cv2.cvtColor(img, cv2.COLOR_BGR2RGB)\n",
    "    result = reader.readtext(img)\n",
    "    words_list = [word for  _, word, _ in result if \" \" not in word]\n",
    "    wordsearch_list = [res for res in result if \" \" in res[1]]\n",
    "    \n",
    "    \n",
    "else:\n",
    "    print(f'{img_path} path dosent exist')"
   ]
  },
  {
   "cell_type": "markdown",
   "id": "3fe9600e",
   "metadata": {},
   "source": [
    "First detection"
   ]
  },
  {
   "cell_type": "code",
   "execution_count": 83,
   "id": "acffd670",
   "metadata": {},
   "outputs": [
    {
     "name": "stdout",
     "output_type": "stream",
     "text": [
      "['0', 'N', 'A', '0', 'B', 'V', 'L', 'E', 'E', 'P', '0', 'R', 'T', 'A', 'B', 'I', 'L', 'I', 'D', 'A', 'D', 'E']\n",
      "['H', 'H', 'S', 'P', 'L', 'M', 'A', 'F', '0', 'T', 'N', 'E', 'M', 'I', 'D', 'N', 'E', 'T', 'A', 'S', 'I', 'P']\n",
      "['P', 'I', 'N', '0', '0', 'L', 'T', 'D', 'A', 'A', 'E', 'N', 'A', 'H', 'C', 'L', 'A', 'U', 'T', 'R', 'I', 'V']\n",
      "['P', 'E', 'R', 'N', 'Q', 'S', 'N', 'A', 'G', 'L', '0', 'S', 'E', 'A', 'R', 'I', 'U', 'G', 'T', 'T', 'S', 'N']\n",
      "['B', 'R', 'I', 'U', 'U', 'C', 'E', 'S', 'A', 'E', 'S', 'N', '0', 'R', 'H', 'I', 'F', 'D', 'N', 'S', 'A', 'E']\n",
      "['R', 'B', 'S', 'P', 'E', 'T', 'R', 'N', 'A', 'R', 'Y', 'A', 'E', 'U', 'G', '0', 'L', 'P', 'E', 'E', 'A', 'L']\n",
      "['P', 'M', 'E', 'L', 'I', 'R', 'A', 'Ô', 'T', 'T', 'N', '0', 'S', 'G', 'R', 'A', 'V', 'A', 'Ç', 'Õ', 'E', 'S']\n",
      "['R', 'A', 'L', 'M', '0', 'R', 'P', 'G', 'L', 'A', 'N', 'N', 'W', 'E', '0', '0', 'L', 'I', 'M', 'Ç', 'R', 'S']\n",
      "['I', 'R', 'R', 'H', 'S', 'S', 'I', 'T', 'L', 'A', 'D', '0', 'A', 'S', 'C', 'C', 'C', 'T', 'T', 'A', 'E', 'G']\n",
      "['0', 'A', 'A', 'C', 'P', 'R', '0', 'T', 'E', 'Ç', 'Ã', '0', 'C', 'R', 'A', 'D', 'I', 'N', 'I', 'G', 'V', 'F']\n",
      "['T', 'B', 'E', 'S', 'E', '0', 'K', 'E', 'A', 'T', 'R', 'H', 'S', 'N', 'N', 'E', 'I', 'A', 'U', 'I', 'I', 'I']\n",
      "['I', 'U', 'U', 'V', 'S', 'L', 'N', 'F', 'S', 'D', 'E', 'F', 'E', 'S', 'A', 'S', 'E', 'R', 'R', 'L', 'D', 'M']\n",
      "['2', 'R', '9', '^', '7', 'N', 'A', 'N', '8', ':', 'T', '{', 'M', '^', ':', 'F', '%', '^', 'F', 'T', '$', '=']\n",
      "['R', 'T', 'L', '0', '0', ']', 'U', 'N', 'T', 'A', 'S', '0', 'A', 'E', 'H', 'R', 'T', 'E', 'L', 'A', '0', '0']\n",
      "['C', 'R', 'B', 'R', 'T', 'E', 'N', 'S', 'C', 'A', 'R', 'T', 'Ã', '0', 'C', '0', 'D', 'É', 'B', 'I', 'T', '0']\n"
     ]
    }
   ],
   "source": [
    "test = detection_matrix(wordsearch_list)\n",
    "for line in test:\n",
    "    line_lettes = []\n",
    "    for letter in line:\n",
    "        line_lettes.append(letter[1])\n",
    "    print(line_lettes)"
   ]
  },
  {
   "cell_type": "markdown",
   "id": "e52784da",
   "metadata": {},
   "source": [
    "Detection line by line"
   ]
  },
  {
   "cell_type": "code",
   "execution_count": 85,
   "id": "b8c62099",
   "metadata": {},
   "outputs": [
    {
     "name": "stderr",
     "output_type": "stream",
     "text": [
      "d:\\pedro\\Programacao\\.Projetos\\Python\\ocr-wordsearch-solver-EasyOcr\\venv\\Lib\\site-packages\\torch\\utils\\data\\dataloader.py:665: UserWarning: 'pin_memory' argument is set as true but no accelerator is found, then device pinned memory won't be used.\n",
      "  warnings.warn(warn_msg)\n"
     ]
    },
    {
     "name": "stdout",
     "output_type": "stream",
     "text": [
      "['0', 'N', 'A', '0', 'B', 'V', 'L', 'E', 'E', 'P', '0', 'R', 'T', 'A', 'B', 'I', 'L', 'I', 'D', 'A', 'D', 'E']\n",
      "['H', 'H', 'S', 'P', 'L', 'M', 'A', 'F', '0', 'T', 'N', 'E', 'M', 'I', 'D', 'N', 'E', 'T', 'A', 'S', 'I', 'P']\n",
      "['P', 'I', 'N', '0', '0', 'L', 'T', 'D', 'A', 'A', 'E', 'N', 'A', 'H', 'C', 'L', 'A', 'U', 'T', 'R', 'I', 'V']\n",
      "['P', 'E', 'R', 'N', 'Q', 'S', 'N', 'A', 'G', 'L', '0', 'S', 'E', 'A', 'R', 'I', 'U', 'G', 'T', 'T', 'S', 'N']\n",
      "['B', 'R', 'I', 'U', 'U', 'C', 'E', 'S', 'A', 'E', 'S', 'N', '0', 'R', 'H', 'I', 'F', 'D', 'N', 'S', 'A', 'E']\n",
      "['R', 'B', 'S', 'P', 'E', 'T', 'R', 'N', 'A', 'R', 'Y', 'A', 'E', 'U', 'G', '0', 'L', 'P', 'E', 'E', 'A', 'L']\n",
      "['P', 'M', 'E', 'L', 'I', 'R', 'A', 'Ô', 'T', 'T', 'N', '0', 'S', 'G', 'R', 'A', 'V', 'A', 'Ç', 'Õ', 'E', 's']\n",
      "['R', 'A', 'L', 'M', '0', 'R', 'P', 'G', 'L', 'A', 'N', 'N', 'W', 'E', '0', '0', 'L', 'I', 'M', 'Ç', 'R', 'S']\n",
      "['I', 'R', 'R', 'H', 'S', 'S', 'I', 'T', 'L', 'A', 'D', '0', 'A', 'S', 'C', 'C', 'C', 'T', 'T', 'A', 'E', 'G']\n",
      "['0', 'A', 'A', 'C', 'P', 'R', '0', 'T', 'E', 'Ç', 'Ã', '0', 'C', 'R', 'A', 'D', 'I', 'N', 'I', 'G', 'V', 'F']\n",
      "['T', 'B', 'E', 'S', 'E', '0', 'K', 'E', 'A', 'T', 'R', 'H', 'S', 'N', 'N', 'E', 'I', 'A', 'U', 'I', 'I', 'I']\n",
      "['I', 'U', 'U', 'V', 'S', 'L', 'N', 'F', 'S', 'D', 'E', 'F', 'E', 'S', 'A', 'S', 'E', 'R', 'R', 'L', 'D', 'M']\n",
      "['D', '0', 'Q', 'A', 'T', 'L', 'A', 'N', '0', 'I', 'C', 'I', 'D', 'A', 'L', 'C', '0', 'A', 'E', 'T', 'A']\n",
      "['R', 'T', 'L', '0', '0', ']', 'U', 'N', 'T', 'A', 'S', '0', 'A', 'E', 'H', 'R', 'T', 'E', 'L', 'A', '0', '0']\n",
      "['C', 'R', 'B', 'R', 'T', 'E', 'N', 'S', 'C', 'A', 'R', 'T', 'Ã', '0', 'C', '0', 'D', 'É', 'B', 'I', 'T', '0']\n"
     ]
    }
   ],
   "source": [
    "for coord, _, _ in wordsearch_list:\n",
    "    x1 = coord[0][0]\n",
    "    y1 = coord[0][1]\n",
    "    x2 = coord[1][0]\n",
    "    y2 = coord[2][1]\n",
    "    img_line = img[y1:y2, x1:x2]\n",
    "    result = reader.readtext(img_line)\n",
    "    letter = result[0][1].split()\n",
    "    print(letter)"
   ]
  },
  {
   "cell_type": "markdown",
   "id": "d7ec973f",
   "metadata": {},
   "source": [
    "Detection letter by letter"
   ]
  },
  {
   "cell_type": "code",
   "execution_count": 74,
   "id": "2db5c1f7",
   "metadata": {},
   "outputs": [],
   "source": [
    "matrix = search_words_matrix(wordsearch_list, img)"
   ]
  },
  {
   "cell_type": "code",
   "execution_count": 75,
   "id": "98594dd2",
   "metadata": {},
   "outputs": [
    {
     "name": "stdout",
     "output_type": "stream",
     "text": [
      "['0', 'N', 'A', '0', 'B', 'L', 'E', 'E', 'P', 'R', 'T', 'A', 'B', 'I', 'L', 'I', 'D', 'A', 'D', 'E']\n",
      "['H', 'H', 'S', 'P', 'L', 'M', 'A', 'F', 'T', 'N', 'E', 'M', 'I', 'D', 'N', 'E', 'S', '1']\n",
      "['P', 'I', 'N', '0', '0', 'L', 'T', 'D', 'A', 'A', 'E', 'N', 'A', 'H', 'C', 'A', 'U', 'T', 'R', 'I']\n",
      "['P', 'E', 'R', 'N', 'Q', 'S', 'N', 'A', 'G', 'L', '0', 'S', 'E', 'A', 'R', 'I', 'U', 'T', 'T', 'S', 'N']\n",
      "['B', 'R', 'I', 'U', 'U', 'C', 'E', 'S', 'A', 'E', '5', 'N', 'R', 'H', 'I', 'F', 'D', 'N', '5', 'A', 'E']\n",
      "['R', 'B', 'S', 'P', 'E', 'T', 'R', 'N', 'A', 'R', 'A', 'E', 'U', 'P', 'E', 'E', 'A']\n",
      "['P', 'M', 'E', 'L', 'I', 'R', 'A', 'Ô', 'T', 'T', 'N', 'S', 'G', 'R', 'A', 'A', 'Õ', 'E', 'S']\n",
      "['R', 'A', 'L', 'M', '0', 'R', 'P', 'G', 'L', 'A', 'N', 'N', 'W', 'E', 'I', 'M', 'R', '5']\n",
      "['I', 'R', 'R', 'H', 'S', 'S', 'I', 'T', 'L', 'A', 'D', 'A', 'S', 'C', 'C', 'C', 'T', 'T', 'A', 'E']\n",
      "['0', 'A', 'A', 'C', 'P', 'R', 'O', 'T', 'E', 'Ç', 'Â', '0', 'C', 'R', 'A', 'D', 'I', 'N', 'I', 'F']\n",
      "['T', 'B', 'E', 'S', 'E', '0', 'K', 'E', 'A', 'T', 'R', 'H', 'S', 'E', 'I', 'U', 'I', '11']\n",
      "['I', 'U', 'U', 'V', 'S', 'L', 'N', 'F', 'S', 'D', 'E', 'F', 'E', 'S', 'A', 'S', 'E', 'R', 'R', 'D', 'M']\n",
      "['Q', 'A', 'T', 'N', '5', '1', '5']\n",
      "['R', 'T', 'L', '0', '0', 'J', 'U', 'N', 'T', 'A', 'S', '0', 'A', 'E', 'H', 'R', 'T', 'E', 'A']\n",
      "['C', 'R', 'B', 'R', 'T', 'E', 'N', '5', 'C', 'A', 'R', 'T', 'A', '0', 'C', 'D', 'É', 'B', 'I', 'T']\n"
     ]
    }
   ],
   "source": [
    "for line in matrix:\n",
    "    line_lettes = []\n",
    "    for letter in line:\n",
    "        line_lettes.append(letter[1])\n",
    "    print(line_lettes)"
   ]
  }
 ],
 "metadata": {
  "kernelspec": {
   "display_name": "venv",
   "language": "python",
   "name": "python3"
  },
  "language_info": {
   "codemirror_mode": {
    "name": "ipython",
    "version": 3
   },
   "file_extension": ".py",
   "mimetype": "text/x-python",
   "name": "python",
   "nbconvert_exporter": "python",
   "pygments_lexer": "ipython3",
   "version": "3.12.4"
  }
 },
 "nbformat": 4,
 "nbformat_minor": 5
}
